{
 "cells": [
  {
   "cell_type": "code",
   "execution_count": 1,
   "id": "1f29bf12-0676-4ed1-b086-3f5f5f98e1a2",
   "metadata": {},
   "outputs": [
    {
     "name": "stderr",
     "output_type": "stream",
     "text": [
      "[nltk_data] Downloading package punkt to /home/anku/nltk_data...\n",
      "[nltk_data]   Package punkt is already up-to-date!\n",
      "[nltk_data] Downloading package stopwords to /home/anku/nltk_data...\n",
      "[nltk_data]   Package stopwords is already up-to-date!\n",
      "[nltk_data] Downloading package averaged_perceptron_tagger to\n",
      "[nltk_data]     /home/anku/nltk_data...\n",
      "[nltk_data]   Package averaged_perceptron_tagger is already up-to-\n",
      "[nltk_data]       date!\n",
      "[nltk_data] Downloading package wordnet to /home/anku/nltk_data...\n",
      "[nltk_data]   Package wordnet is already up-to-date!\n"
     ]
    },
    {
     "data": {
      "text/plain": [
       "True"
      ]
     },
     "execution_count": 1,
     "metadata": {},
     "output_type": "execute_result"
    }
   ],
   "source": [
    "import nltk\n",
    "import pandas as pd\n",
    "from nltk.tokenize import word_tokenize\n",
    "from nltk.corpus import stopwords\n",
    "from nltk.stem import PorterStemmer, WordNetLemmatizer\n",
    "from nltk import pos_tag\n",
    "from sklearn.feature_extraction.text import TfidfVectorizer, CountVectorizer\n",
    "\n",
    "# Download required NLTK data\n",
    "nltk.download('punkt')\n",
    "nltk.download('stopwords')\n",
    "nltk.download('averaged_perceptron_tagger')\n",
    "nltk.download('wordnet')\n"
   ]
  },
  {
   "cell_type": "code",
   "execution_count": 3,
   "id": "ae0899d2-5c4a-41cd-9883-b035609ec809",
   "metadata": {},
   "outputs": [],
   "source": [
    "document = \"\"\"Natural Language Processing enables machines to understand human language. \n",
    "It includes text pre-processing techniques such as tokenization, stop word removal, \n",
    "stemming, and lemmatization. These techniques improve performance of machine learning models.\"\"\"\n"
   ]
  },
  {
   "cell_type": "code",
   "execution_count": 4,
   "id": "1651b305-6ec5-4448-b7f7-a11627fc1652",
   "metadata": {},
   "outputs": [
    {
     "name": "stdout",
     "output_type": "stream",
     "text": [
      "Tokens: ['Natural', 'Language', 'Processing', 'enables', 'machines', 'to', 'understand', 'human', 'language', '.', 'It', 'includes', 'text', 'pre-processing', 'techniques', 'such', 'as', 'tokenization', ',', 'stop', 'word', 'removal', ',', 'stemming', ',', 'and', 'lemmatization', '.', 'These', 'techniques', 'improve', 'performance', 'of', 'machine', 'learning', 'models', '.']\n"
     ]
    }
   ],
   "source": [
    "tokens = word_tokenize(document)\n",
    "print(\"Tokens:\", tokens)\n"
   ]
  },
  {
   "cell_type": "code",
   "execution_count": 5,
   "id": "27db2e83-5e8a-4143-bdce-68ea2dd08f1c",
   "metadata": {},
   "outputs": [
    {
     "name": "stdout",
     "output_type": "stream",
     "text": [
      "POS Tags: [('Natural', 'JJ'), ('Language', 'NNP'), ('Processing', 'NNP'), ('enables', 'VBZ'), ('machines', 'NNS'), ('to', 'TO'), ('understand', 'VB'), ('human', 'JJ'), ('language', 'NN'), ('.', '.'), ('It', 'PRP'), ('includes', 'VBZ'), ('text', 'JJ'), ('pre-processing', 'JJ'), ('techniques', 'NNS'), ('such', 'JJ'), ('as', 'IN'), ('tokenization', 'NN'), (',', ','), ('stop', 'VB'), ('word', 'NN'), ('removal', 'NN'), (',', ','), ('stemming', 'VBG'), (',', ','), ('and', 'CC'), ('lemmatization', 'NN'), ('.', '.'), ('These', 'DT'), ('techniques', 'NNS'), ('improve', 'VBP'), ('performance', 'NN'), ('of', 'IN'), ('machine', 'NN'), ('learning', 'NN'), ('models', 'NNS'), ('.', '.')]\n"
     ]
    }
   ],
   "source": [
    "pos_tags = pos_tag(tokens)\n",
    "print(\"POS Tags:\", pos_tags)\n"
   ]
  },
  {
   "cell_type": "code",
   "execution_count": 6,
   "id": "6b69b7af-daf2-483b-a4e3-cc2aaeff25fb",
   "metadata": {},
   "outputs": [
    {
     "name": "stdout",
     "output_type": "stream",
     "text": [
      "After Stop Word Removal: ['Natural', 'Language', 'Processing', 'enables', 'machines', 'understand', 'human', 'language', 'includes', 'text', 'techniques', 'tokenization', 'stop', 'word', 'removal', 'stemming', 'lemmatization', 'techniques', 'improve', 'performance', 'machine', 'learning', 'models']\n"
     ]
    }
   ],
   "source": [
    "stop_words = set(stopwords.words('english'))\n",
    "filtered_tokens = [word for word in tokens if word.lower() not in stop_words and word.isalpha()]\n",
    "print(\"After Stop Word Removal:\", filtered_tokens)\n"
   ]
  },
  {
   "cell_type": "code",
   "execution_count": 7,
   "id": "74a7fe68-e0f6-4ab6-ba31-fbcace572304",
   "metadata": {},
   "outputs": [
    {
     "name": "stdout",
     "output_type": "stream",
     "text": [
      "Stemmed Words: ['natur', 'languag', 'process', 'enabl', 'machin', 'understand', 'human', 'languag', 'includ', 'text', 'techniqu', 'token', 'stop', 'word', 'remov', 'stem', 'lemmat', 'techniqu', 'improv', 'perform', 'machin', 'learn', 'model']\n"
     ]
    }
   ],
   "source": [
    "stemmer = PorterStemmer()\n",
    "stemmed = [stemmer.stem(word) for word in filtered_tokens]\n",
    "print(\"Stemmed Words:\", stemmed)\n"
   ]
  },
  {
   "cell_type": "code",
   "execution_count": 8,
   "id": "8856897c-1d1d-4142-b44f-825a1e1f417d",
   "metadata": {},
   "outputs": [
    {
     "name": "stdout",
     "output_type": "stream",
     "text": [
      "Lemmatized Words: ['Natural', 'Language', 'Processing', 'enables', 'machine', 'understand', 'human', 'language', 'includes', 'text', 'technique', 'tokenization', 'stop', 'word', 'removal', 'stemming', 'lemmatization', 'technique', 'improve', 'performance', 'machine', 'learning', 'model']\n"
     ]
    }
   ],
   "source": [
    "lemmatizer = WordNetLemmatizer()\n",
    "lemmatized = [lemmatizer.lemmatize(word) for word in filtered_tokens]\n",
    "print(\"Lemmatized Words:\", lemmatized)\n"
   ]
  },
  {
   "cell_type": "code",
   "execution_count": 10,
   "id": "e6480d0a-ff5f-48a9-90f7-01dbb8018c11",
   "metadata": {},
   "outputs": [
    {
     "name": "stdout",
     "output_type": "stream",
     "text": [
      "Term Frequency:\n",
      "    and  as  enables  human  improve  includes  it  language  learning  \\\n",
      "0    1   1        1      1        1         1   1         2         1   \n",
      "\n",
      "   lemmatization  ...  stemming  stop  such  techniques  text  these  to  \\\n",
      "0              1  ...         1     1     1           2     1      1   1   \n",
      "\n",
      "   tokenization  understand  word  \n",
      "0             1           1     1  \n",
      "\n",
      "[1 rows x 29 columns]\n"
     ]
    }
   ],
   "source": [
    "cv = CountVectorizer()\n",
    "tf_matrix = cv.fit_transform([document])\n",
    "tf_df = pd.DataFrame(tf_matrix.toarray(), columns=cv.get_feature_names_out())\n",
    "print(\"Term Frequency:\\n\", tf_df)\n"
   ]
  },
  {
   "cell_type": "code",
   "execution_count": 11,
   "id": "d6b567d1-2e51-4ae2-a2e4-f0d6401e674e",
   "metadata": {},
   "outputs": [
    {
     "name": "stdout",
     "output_type": "stream",
     "text": [
      "TF-IDF:\n",
      "         and        as   enables     human   improve  includes        it  \\\n",
      "0  0.162221  0.162221  0.162221  0.162221  0.162221  0.162221  0.162221   \n",
      "\n",
      "   language  learning  lemmatization  ...  stemming      stop      such  \\\n",
      "0  0.324443  0.162221       0.162221  ...  0.162221  0.162221  0.162221   \n",
      "\n",
      "   techniques      text     these        to  tokenization  understand  \\\n",
      "0    0.324443  0.162221  0.162221  0.162221      0.162221    0.162221   \n",
      "\n",
      "       word  \n",
      "0  0.162221  \n",
      "\n",
      "[1 rows x 29 columns]\n"
     ]
    }
   ],
   "source": [
    "tfidf_vectorizer = TfidfVectorizer()\n",
    "tfidf_matrix = tfidf_vectorizer.fit_transform([document])\n",
    "tfidf_df = pd.DataFrame(tfidf_matrix.toarray(), columns=tfidf_vectorizer.get_feature_names_out())\n",
    "print(\"TF-IDF:\\n\", tfidf_df)\n"
   ]
  },
  {
   "cell_type": "code",
   "execution_count": null,
   "id": "bdf259b3-bdbb-4117-8d26-9fa42fd56e68",
   "metadata": {},
   "outputs": [],
   "source": []
  }
 ],
 "metadata": {
  "kernelspec": {
   "display_name": "Python 3 (ipykernel)",
   "language": "python",
   "name": "python3"
  },
  "language_info": {
   "codemirror_mode": {
    "name": "ipython",
    "version": 3
   },
   "file_extension": ".py",
   "mimetype": "text/x-python",
   "name": "python",
   "nbconvert_exporter": "python",
   "pygments_lexer": "ipython3",
   "version": "3.10.12"
  },
  "widgets": {
   "application/vnd.jupyter.widget-state+json": {
    "state": {},
    "version_major": 2,
    "version_minor": 0
   }
  }
 },
 "nbformat": 4,
 "nbformat_minor": 5
}
